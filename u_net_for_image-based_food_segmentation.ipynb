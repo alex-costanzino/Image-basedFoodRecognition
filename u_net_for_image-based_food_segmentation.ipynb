{
  "nbformat": 4,
  "nbformat_minor": 0,
  "metadata": {
    "colab": {
      "name": "u_net_for_image-based_food_segmentation.ipynb",
      "provenance": [],
      "collapsed_sections": [
        "W3GK3atPWA_h"
      ],
      "toc_visible": true
    },
    "kernelspec": {
      "display_name": "Python 3",
      "language": "python",
      "name": "python3"
    },
    "language_info": {
      "codemirror_mode": {
        "name": "ipython",
        "version": 3
      },
      "file_extension": ".py",
      "mimetype": "text/x-python",
      "name": "python",
      "nbconvert_exporter": "python",
      "pygments_lexer": "ipython3",
      "version": "3.8.3"
    }
  },
  "cells": [
    {
      "cell_type": "code",
      "metadata": {
        "id": "mUKVrZFTWcav"
      },
      "source": [
        "'''\n",
        "Alex Costanzino, Marco Costante\n",
        "MSc student in Artificial Intelligence\n",
        "@ Alma Mater Studiorum, University of Bologna\n",
        "March, 2021\n",
        "'''"
      ],
      "execution_count": null,
      "outputs": []
    },
    {
      "cell_type": "markdown",
      "metadata": {
        "id": "ZpnGRli5X7Er"
      },
      "source": [
        "# **Food recognition challenge**\n",
        "Recognizing food from images is an extremely useful tool for a variety of use cases. In particular, it would allow people to track their food intake by simply taking a picture of what they consume. Food tracking can be of personal interest, and can often be of medical relevance as well. Medical studies have for some time been interested in the food intake of study participants but had to rely on food frequency questionnaires that are known to be imprecise.\n",
        "\n",
        "Image-based food recognition has in the past few years made substantial progress thanks to advances in deep learning. But food recognition remains a difficult problem for a variety of reasons."
      ]
    },
    {
      "cell_type": "markdown",
      "metadata": {
        "id": "I5ZafFAkWfqy"
      },
      "source": [
        "## Import and parameters"
      ]
    },
    {
      "cell_type": "code",
      "metadata": {
        "id": "VcKjsZbL8WKi"
      },
      "source": [
        "# Doc: https://segmentation-models.readthedocs.io/\n",
        "!pip install -U segmentation-models"
      ],
      "execution_count": null,
      "outputs": []
    },
    {
      "cell_type": "code",
      "metadata": {
        "id": "-T_wmed9Sxgk"
      },
      "source": [
        "%env SM_FRAMEWORK = tf.keras"
      ],
      "execution_count": null,
      "outputs": []
    },
    {
      "cell_type": "code",
      "metadata": {
        "id": "TKV-D10pmvoJ"
      },
      "source": [
        "import os\n",
        "import random\n",
        "\n",
        "import numpy as np\n",
        "import tensorflow as tf\n",
        "\n",
        "import keras\n",
        "import segmentation_models\n",
        "\n",
        "from tqdm import tqdm\n",
        "from pycocotools.coco import COCO\n",
        "import pandas as pd\n",
        "\n",
        "import cv2\n",
        "from PIL import Image\n",
        "import matplotlib.pyplot as plt\n",
        "import matplotlib.patches as mpatches"
      ],
      "execution_count": null,
      "outputs": []
    },
    {
      "cell_type": "code",
      "metadata": {
        "id": "TBBuo048QjQN"
      },
      "source": [
        "''' Upload files from the drive '''\n",
        "from google.colab import drive\n",
        "drive.mount('/content/drive')"
      ],
      "execution_count": null,
      "outputs": []
    },
    {
      "cell_type": "code",
      "metadata": {
        "id": "9ppvMBWgnAdJ"
      },
      "source": [
        "'''Image parameters'''\n",
        "IMAGE_WIDTH = 128\n",
        "IMAGE_HEIGHT = 128\n",
        "IMAGE_CHANNELS = 3\n",
        "\n",
        "CLASSES = 18 # 16 categories + background + other categories"
      ],
      "execution_count": null,
      "outputs": []
    },
    {
      "cell_type": "markdown",
      "metadata": {
        "id": "6EIDoBDLwSUZ"
      },
      "source": [
        "## Dataset reduction"
      ]
    },
    {
      "cell_type": "code",
      "metadata": {
        "colab": {
          "base_uri": "https://localhost:8080/"
        },
        "id": "Y2wF3L1DnZkw",
        "scrolled": true,
        "outputId": "5383c54f-7150-4584-ab00-6345760b5504"
      },
      "source": [
        "'''Loading annotations file for the training set'''\n",
        "annFile = '/content/drive/MyDrive/deep_learning_project/train/annotations.json'\n",
        "coco_train = COCO(annFile)"
      ],
      "execution_count": null,
      "outputs": [
        {
          "output_type": "stream",
          "text": [
            "loading annotations into memory...\n",
            "Done (t=5.34s)\n",
            "creating index...\n",
            "index created!\n"
          ],
          "name": "stdout"
        }
      ]
    },
    {
      "cell_type": "code",
      "metadata": {
        "colab": {
          "base_uri": "https://localhost:8080/"
        },
        "id": "az9rj11onZkw",
        "scrolled": true,
        "outputId": "9b535da6-de6b-4773-a364-84de7e6171be"
      },
      "source": [
        "'''Display COCO categories'''\n",
        "cats = coco_train.loadCats(coco_train.getCatIds())\n",
        "nms = [cat['name'] for cat in cats]\n",
        "\n",
        "print('COCO categories: \\n{}\\n'.format(' '.join(nms)))"
      ],
      "execution_count": null,
      "outputs": [
        {
          "output_type": "stream",
          "text": [
            "COCO categories: \n",
            "water pear egg grapes butter bread-white jam bread-whole-wheat apple tea-green white-coffee-with-caffeine tea-black mixed-salad-chopped-without-sauce cheese tomato-sauce pasta-spaghetti carrot onion beef-cut-into-stripes-only-meat rice-noodles-vermicelli salad-leaf-salad-green bread-grain espresso-with-caffeine banana mixed-vegetables bread-wholemeal savoury-puff-pastry wine-white dried-meat fresh-cheese red-radish hard-cheese ham-raw bread-fruit oil-vinegar-salad-dressing tomato cauliflower potato-gnocchi wine-red sauce-cream pasta-linguini-parpadelle-tagliatelle french-beans almonds dark-chocolate mandarine semi-hard-cheese croissant sushi berries biscuits thickened-cream-35 corn celeriac alfa-sprouts chickpeas leaf-spinach rice chocolate-cookies pineapple tart coffee-with-caffeine focaccia pizza-with-vegetables-baked soup-vegetable bread-toast potatoes-steamed spaetzle frying-sausage lasagne-meat-prepared boisson-au-glucose-50g ma1-4esli peanut-butter chips-french-fries mushroom ratatouille veggie-burger country-fries yaourt-yahourt-yogourt-ou-yoghourt-natural hummus fish beer peanut pizza-margherita-baked pickle ham-cooked cake-chocolate bread-french-white-flour sauce-mushroom rice-basmati soup-of-lentils-dahl-dhal pumpkin witloof-chicory vegetable-au-gratin-baked balsamic-salad-dressing pasta-penne tea-peppermint soup-pumpkin quiche-with-cheese-baked-with-puff-pastry mango green-bean-steamed-without-addition-of-salt cucumber bread-half-white pasta beef-filet pasta-twist pasta-wholemeal walnut soft-cheese salmon-smoked sweet-pepper sauce-soya chicken-breast rice-whole-grain bread-nut green-olives roll-of-half-white-or-white-flour-with-large-void parmesan cappuccino flakes-oat mayonnaise chicken cheese-for-raclette orange goat-cheese-soft tuna tomme apple-pie rosti broccoli beans-kidney white-cabbage ketchup salt-cake-vegetables-filled pistachio feta salmon avocado sauce-pesto salad-rocket pizza-with-ham-baked gruya-re ristretto-with-caffeine risotto-without-cheese-cooked crunch-ma1-4esli braided-white-loaf peas chicken-curry-cream-coconut-milk-curry-spices-paste bolognaise-sauce bacon-frying salami lentils mushrooms mashed-potatoes-prepared-with-full-fat-milk-with-butter fennel chocolate-mousse corn-crisps sweet-potato bircherma1-4esli-prepared-no-sugar-added beetroot-steamed-without-addition-of-salt sauce-savoury leek milk tea fruit-salad bread-rye salad-lambs-ear potatoes-au-gratin-dauphinois-prepared red-cabbage praline bread-black black-olives mozzarella bacon-cooking pomegranate hamburger-bread-meat-ketchup curry-vegetarian honey juice-orange cookies mixed-nuts breadcrumbs-unspiced chicken-leg raspberries beef-sirloin-steak salad-dressing shrimp-prawn-large sour-cream greek-salad sauce-roast zucchini greek-yaourt-yahourt-yogourt-ou-yoghourt cashew-nut meat-terrine-pata-c chicken-cut-into-stripes-only-meat couscous bread-wholemeal-toast craape-plain bread-5-grain tofu water-mineral ham-croissant juice-apple falafel-balls egg-scrambled-prepared brioche bread-pita pasta-haprnli blue-mould-cheese vegetable-mix-peas-and-carrots quinoa crisps beef butter-spread-puree-almond beef-minced-only-meat hazelnut-chocolate-spread-nutella-ovomaltine-caotina chocolate nectarine ice-tea applesauce-unsweetened-canned syrup-diluted-ready-to-drink sugar-melon bread-sourdough rusk-wholemeal gluten-free-bread shrimp-prawn-small french-salad-dressing pancakes milk-chocolate pork dairy-ice-cream guacamole sausage herbal-tea fruit-coulis water-with-lemon-juice brownie lemon veal-sausage dates roll-with-pieces-of-chocolate taboula-c-prepared-with-couscous croissant-with-chocolate-filling eggplant sesame-seeds cottage-cheese fruit-tart cream-cheese tea-verveine tiramisu grits-polenta-maize-flour pasta-noodles artichoke blueberries mixed-seeds caprese-salad-tomato-mozzarella omelette-plain hazelnut kiwi dried-raisins kolhrabi plums beetroot-raw cream fajita-bread-only apricots kefir-drink bread strawberries wine-rosa-c watermelon-fresh green-asparagus white-asparagus peach\n",
            "\n"
          ],
          "name": "stdout"
        }
      ]
    },
    {
      "cell_type": "code",
      "metadata": {
        "id": "KOq3qlCUqYtr",
        "colab": {
          "base_uri": "https://localhost:8080/"
        },
        "outputId": "fc027ae0-54c9-43fd-e0de-1fce3c8b66a6"
      },
      "source": [
        "'''Getting all categories with respect to their total images and showing the 16 most frequent categories'''\n",
        "no_images_per_category = {}\n",
        "\n",
        "for n, i in enumerate(coco_train.getCatIds()):\n",
        "    imgIds = coco_train.getImgIds(catIds=i)\n",
        "    label = nms[n]\n",
        "    no_images_per_category[label] = len(imgIds)\n",
        "\n",
        "img_info = pd.DataFrame(coco_train.loadImgs(coco_train.getImgIds()))\n",
        "\n",
        "'''Most frequent categories'''\n",
        "categories = pd.DataFrame(no_images_per_category.items()).sort_values(1).iloc[::-1][0][:30].tolist()[0:16]\n",
        "print(categories)\n",
        "\n",
        "'''Dict with most frequent categories, the ones we chose'''\n",
        "category_channels = dict(zip(categories, range(1, len(categories) + 1)))\n",
        "print(category_channels)"
      ],
      "execution_count": null,
      "outputs": [
        {
          "output_type": "stream",
          "text": [
            "['water', 'bread-white', 'salad-leaf-salad-green', 'tomato', 'butter', 'bread-wholemeal', 'carrot', 'coffee-with-caffeine', 'rice', 'egg', 'mixed-vegetables', 'wine-red', 'apple', 'jam', 'potatoes-steamed', 'banana']\n",
            "{'water': 1, 'bread-white': 2, 'salad-leaf-salad-green': 3, 'tomato': 4, 'butter': 5, 'bread-wholemeal': 6, 'carrot': 7, 'coffee-with-caffeine': 8, 'rice': 9, 'egg': 10, 'mixed-vegetables': 11, 'wine-red': 12, 'apple': 13, 'jam': 14, 'potatoes-steamed': 15, 'banana': 16}\n"
          ],
          "name": "stdout"
        }
      ]
    },
    {
      "cell_type": "code",
      "metadata": {
        "colab": {
          "base_uri": "https://localhost:8080/"
        },
        "id": "kodNHwphnZkx",
        "outputId": "0f738275-1cb3-4417-b898-76a960be2282"
      },
      "source": [
        "'''Extraction of COCO annotations for the selected categories''' \n",
        "\n",
        "image_directory = '/content/drive/MyDrive/deep_learning_project/train_reduced/images/'\n",
        "\n",
        "folder_cats = os.listdir(image_directory)\n",
        "\n",
        "coco_imgs_train = []\n",
        "\n",
        "for i, folder in tqdm(enumerate(folder_cats), total = len(folder_cats), position = 0, leave = True):\n",
        "    if not folder.startswith('.'):\n",
        "        images_train = os.listdir(image_directory + folder)\n",
        "    for image_name in images_train:\n",
        "        imgId = int(coco_train.getImgIds(imgIds = [image_name.split('.')[0]])[0].lstrip(\"0\"))\n",
        "        coco_imgs_train.append(coco_train.loadImgs([imgId])[0])\n",
        "\n",
        "TRAINING_SET_SIZE = len(coco_imgs_train)"
      ],
      "execution_count": null,
      "outputs": [
        {
          "output_type": "stream",
          "text": [
            "100%|██████████| 16/16 [00:33<00:00,  2.09s/it]\n"
          ],
          "name": "stderr"
        }
      ]
    },
    {
      "cell_type": "markdown",
      "metadata": {
        "id": "HwU6CS1SWKqg"
      },
      "source": [
        "## Generators"
      ]
    },
    {
      "cell_type": "markdown",
      "metadata": {
        "id": "nbcLcgSfWQSI"
      },
      "source": [
        "### Training set generator"
      ]
    },
    {
      "cell_type": "code",
      "metadata": {
        "id": "iLJPdPVbnZky"
      },
      "source": [
        "'''Creating masks splitted out in channels: each channel corresponds to one category'''\n",
        "\n",
        "def read_resize_image(coco_img, path):\n",
        "    \n",
        "    image = cv2.imread(path + coco_img['file_name'], cv2.IMREAD_COLOR)\n",
        "    image = cv2.cvtColor(image, cv2.COLOR_BGR2RGB)\n",
        "    image = cv2.resize(image, (IMAGE_WIDTH, IMAGE_HEIGHT))         \n",
        "    image = np.asarray(image)\n",
        "    \n",
        "    return image\n",
        "\n",
        "def generate_mask(coco_img, coco_annotations):\n",
        "    annIds = coco_annotations.getAnnIds(imgIds=coco_img['id'], iscrowd = None)\n",
        "    anns = coco_annotations.loadAnns(annIds)\n",
        "    mask = np.zeros((coco_img['height'], coco_img['width'], CLASSES), dtype=np.float32)\n",
        "\n",
        "    # Setting all pixels of the background channel to 1\n",
        "    mask[:,:,0] = np.ones((coco_img['height'], coco_img['width']), dtype=np.float32)\n",
        "\n",
        "    for ann in anns:\n",
        "        catName = [cat['name'] for cat in cats if cat['id'] == ann['category_id']][0]\n",
        "        if catName in category_channels:\n",
        "            mask[:,:,category_channels[catName]] = coco_annotations.annToMask(ann)\n",
        "            mask[:,:,0] -= mask[:,:,category_channels[catName]] \n",
        "        else:\n",
        "            mask[:,:,-1] += coco_annotations.annToMask(ann)\n",
        "\n",
        "    mask[:,:,0] -= mask[:,:,-1]\n",
        "    mask[mask < 0] = 0\n",
        "    mask[mask > 1] = 1\n",
        "    mask = (cv2.resize(mask, (IMAGE_WIDTH, IMAGE_HEIGHT)))\n",
        "    \n",
        "    return mask\n",
        "\n",
        "def dataset_generator(coco_imgs, path, coco_annotations, cats, category_channels, dataset_size, batch_size):\n",
        "\n",
        "    batch_features = np.zeros((batch_size, IMAGE_WIDTH, IMAGE_HEIGHT, IMAGE_CHANNELS))\n",
        "    batch_labels = np.zeros((batch_size, IMAGE_WIDTH, IMAGE_HEIGHT, CLASSES), dtype = np.float64)\n",
        "\n",
        "    c = 0\n",
        "    random.shuffle(coco_imgs)\n",
        "\n",
        "    while True:\n",
        "        for i in range(c, c + batch_size):\n",
        "\n",
        "            coco_img = coco_imgs[i]\n",
        "\n",
        "            batch_features[i - c] = read_resize_image(coco_img, path)\n",
        "            batch_labels[i - c] = generate_mask(coco_img, coco_annotations)\n",
        "\n",
        "        c = c + batch_size\n",
        "        if(c + batch_size >= dataset_size):\n",
        "            c = 0\n",
        "            random.shuffle(coco_imgs)\n",
        "\n",
        "        yield (batch_features, batch_labels)"
      ],
      "execution_count": null,
      "outputs": []
    },
    {
      "cell_type": "markdown",
      "metadata": {
        "id": "5bREM4LN2AAZ"
      },
      "source": [
        "### Validation set generator"
      ]
    },
    {
      "cell_type": "code",
      "metadata": {
        "colab": {
          "base_uri": "https://localhost:8080/"
        },
        "id": "mCNvWPDgs0tK",
        "scrolled": true,
        "outputId": "262da0c0-5df7-41f7-9fed-8e1273bea5d9"
      },
      "source": [
        "'''Loading annotations file for the validation set'''\n",
        "annFile = '/content/drive/MyDrive/deep_learning_project/val/annotations.json'\n",
        "coco_val = COCO(annFile)"
      ],
      "execution_count": null,
      "outputs": [
        {
          "output_type": "stream",
          "text": [
            "loading annotations into memory...\n",
            "Done (t=0.76s)\n",
            "creating index...\n",
            "index created!\n"
          ],
          "name": "stdout"
        }
      ]
    },
    {
      "cell_type": "code",
      "metadata": {
        "colab": {
          "base_uri": "https://localhost:8080/"
        },
        "id": "sUdjPNXws0tM",
        "outputId": "96845fa0-e52b-4bc0-f384-2434451f9c26"
      },
      "source": [
        "'''Extraction of COCO annotations for the selected categories in the validation set'''\n",
        "\n",
        "image_directory = '/content/drive/MyDrive/deep_learning_project/val/images/'\n",
        "\n",
        "images_val = os.listdir(image_directory)\n",
        "\n",
        "coco_imgs_val = []\n",
        "\n",
        "for i, image in tqdm(enumerate(images_val), total = len(images_val), position = 0, leave = True):\n",
        "        \n",
        "    imgId = int(coco_val.getImgIds(imgIds = [image.split('.')[0]])[0].lstrip(\"0\"))\n",
        "    coco_img_val = coco_val.loadImgs([imgId])[0]\n",
        "    annIds = coco_val.getAnnIds(imgIds=coco_img_val['id'], iscrowd = None)\n",
        "    anns = coco_val.loadAnns(annIds)\n",
        "\n",
        "    for ann in anns:\n",
        "        catName = [cat['name'] for cat in cats if cat['id'] == ann['category_id']][0]\n",
        "        if catName in category_channels.keys():\n",
        "            coco_imgs_val.append(coco_val.loadImgs([imgId])[0])\n",
        "            break\n",
        "\n",
        "VALIDATION_SET_SIZE = len(coco_imgs_val)"
      ],
      "execution_count": null,
      "outputs": [
        {
          "output_type": "stream",
          "text": [
            "100%|██████████| 1269/1269 [00:00<00:00, 17663.42it/s]\n"
          ],
          "name": "stderr"
        }
      ]
    },
    {
      "cell_type": "markdown",
      "metadata": {
        "id": "W3GK3atPWA_h"
      },
      "source": [
        "## Generator test\n",
        "Do not run before generator call. It's just a test!"
      ]
    },
    {
      "cell_type": "code",
      "metadata": {
        "id": "q_vS4F44qZCe"
      },
      "source": [
        "''' Generator test: call an entire batch of the generator '''\n",
        "gen_t = next(gen_val)\n",
        "image_t = gen_t[0] # Image\n",
        "mask_t = gen_t[1] # Mask"
      ],
      "execution_count": null,
      "outputs": []
    },
    {
      "cell_type": "code",
      "metadata": {
        "id": "xwKYDYWL73_5"
      },
      "source": [
        "'''Shape check'''\n",
        "print(image_t.shape, mask_t.shape)"
      ],
      "execution_count": null,
      "outputs": []
    },
    {
      "cell_type": "code",
      "metadata": {
        "id": "fi20gRhM7rCD"
      },
      "source": [
        "''' Image check '''\n",
        "plt.imshow(image_t[3].astype(np.uint8))\n",
        "plt.show()"
      ],
      "execution_count": null,
      "outputs": []
    },
    {
      "cell_type": "code",
      "metadata": {
        "id": "uitiNDBc6uVL"
      },
      "source": [
        "''' Mask check '''\n",
        "for i in range(CLASSES):\n",
        "  plt.imshow(mask_t[3,:,:,i])\n",
        "  plt.show()"
      ],
      "execution_count": null,
      "outputs": []
    },
    {
      "cell_type": "code",
      "metadata": {
        "id": "9Q-LK4RKMKFe"
      },
      "source": [
        "''' Type check '''\n",
        "print(type(mask_t[0,0,0,0]))\n",
        "print(np.max(mask_t[:,:,:,:]))\n",
        "\n",
        "print(type(image_t[0,0,0,0]))\n",
        "print(image_t[0,:,:,0])"
      ],
      "execution_count": null,
      "outputs": []
    },
    {
      "cell_type": "markdown",
      "metadata": {
        "id": "trw4aThLxAkJ"
      },
      "source": [
        "## Neural network structure"
      ]
    },
    {
      "cell_type": "code",
      "metadata": {
        "id": "GoKe8lkucoS1"
      },
      "source": [
        "''' U-net parameters'''\n",
        "FILTER = 16"
      ],
      "execution_count": null,
      "outputs": []
    },
    {
      "cell_type": "markdown",
      "metadata": {
        "id": "pbd756QH26J6"
      },
      "source": [
        "### Input layer "
      ]
    },
    {
      "cell_type": "code",
      "metadata": {
        "id": "GI-bMTmXnEVi"
      },
      "source": [
        "''' Input layer '''\n",
        "inputs = tf.keras.layers.Input((IMAGE_WIDTH, IMAGE_HEIGHT, IMAGE_CHANNELS))\n",
        "s = tf.keras.layers.Lambda(lambda x: x / 255)(inputs) # Normalization"
      ],
      "execution_count": null,
      "outputs": []
    },
    {
      "cell_type": "markdown",
      "metadata": {
        "id": "LcMqWVjB29iq"
      },
      "source": [
        "### Contractive path"
      ]
    },
    {
      "cell_type": "code",
      "metadata": {
        "id": "3NSKlyjFnMUm"
      },
      "source": [
        "''' Contractive path '''\n",
        "### Layer 1\n",
        "c1 = tf.keras.layers.Conv2D(FILTER, (3, 3),\n",
        "                            kernel_initializer = 'he_normal',\n",
        "                            padding = 'same')(s)\n",
        "\n",
        "c1 = tf.keras.layers.BatchNormalization()(c1) # Batch normalization instead of dropout (note: I had to split the conv2D and ReLU)\n",
        "\n",
        "c1 = tf.keras.layers.Activation('selu')(c1) \n",
        "\n",
        "c1 = tf.keras.layers.Conv2D(FILTER, (3, 3),\n",
        "                            activation = 'selu',\n",
        "                            kernel_initializer = 'he_normal',\n",
        "                            padding = 'same')(c1)\n",
        "\n",
        "p1 = tf.keras.layers.MaxPooling2D((2, 2))(c1)\n",
        "\n",
        "### Layer 2\n",
        "c2 = tf.keras.layers.Conv2D(FILTER*2, (3, 3),\n",
        "                            kernel_initializer = 'he_normal',\n",
        "                            padding = 'same')(p1)\n",
        "\n",
        "c2 = tf.keras.layers.BatchNormalization()(c2) # Batch normalization instead of dropout (note: I had to split the conv2D and ReLU)\n",
        "\n",
        "c2 = tf.keras.layers.Activation('selu')(c2)\n",
        "\n",
        "c2 = tf.keras.layers.Conv2D(FILTER*2, (3, 3),\n",
        "                            activation = 'selu',\n",
        "                            kernel_initializer = 'he_normal',\n",
        "                            padding = 'same')(c2)\n",
        "\n",
        "p2 = tf.keras.layers.MaxPooling2D((2, 2))(c2)\n",
        "\n",
        "### Layer 3\n",
        "c3 = tf.keras.layers.Conv2D(FILTER*4, (3, 3),\n",
        "                            kernel_initializer = 'he_normal',\n",
        "                            padding = 'same')(p2)\n",
        "\n",
        "c3 = tf.keras.layers.BatchNormalization()(c3) # Batch normalization instead of dropout (note: I had to split the conv2D and ReLU)\n",
        "\n",
        "c3 = tf.keras.layers.Activation('selu')(c3)\n",
        "\n",
        "c3 = tf.keras.layers.Conv2D(FILTER*4, (3, 3),\n",
        "                            activation = 'selu',\n",
        "                            kernel_initializer = 'he_normal',\n",
        "                            padding = 'same')(c3)\n",
        "\n",
        "p3 = tf.keras.layers.MaxPooling2D((2, 2))(c3)\n",
        "\n",
        "### Layer 4\n",
        "c4 = tf.keras.layers.Conv2D(FILTER*8, (3, 3),\n",
        "                            kernel_initializer = 'he_normal',\n",
        "                            padding = 'same')(p3)\n",
        "\n",
        "c4 = tf.keras.layers.BatchNormalization()(c4) # Batch normalization instead of dropout (note: I had to split the conv2D and ReLU)\n",
        "\n",
        "c4 = tf.keras.layers.Activation('selu')(c4)\n",
        "\n",
        "c4 = tf.keras.layers.Conv2D(FILTER*8, (3, 3),\n",
        "                            activation = 'selu',\n",
        "                            kernel_initializer = 'he_normal',\n",
        "                            padding = 'same')(c4)\n",
        "\n",
        "p4 = tf.keras.layers.MaxPooling2D((2, 2))(c4)\n",
        "\n",
        "### Layer 5\n",
        "c5 = tf.keras.layers.Conv2D(FILTER*16, (3, 3),\n",
        "                            kernel_initializer = 'he_normal',\n",
        "                            padding = 'same')(p4)\n",
        "\n",
        "c5 = tf.keras.layers.BatchNormalization()(c5) # Batch normalization instead of dropout (note: I had to split the conv2D and ReLU)\n",
        "\n",
        "c5 = tf.keras.layers.Activation('selu')(c5)\n",
        "\n",
        "c5 = tf.keras.layers.Conv2D(FILTER*16, (3, 3),\n",
        "                            activation = 'selu',\n",
        "                            kernel_initializer = 'he_normal',\n",
        "                            padding = 'same')(c5)"
      ],
      "execution_count": null,
      "outputs": []
    },
    {
      "cell_type": "markdown",
      "metadata": {
        "id": "eG3Bn8PN3AwD"
      },
      "source": [
        "### Expansive path"
      ]
    },
    {
      "cell_type": "code",
      "metadata": {
        "id": "071yOJ65nNVK"
      },
      "source": [
        "''' Expansive path '''\n",
        "# Layer 6\n",
        "u6 = tf.keras.layers.Conv2DTranspose(FILTER*8, (2, 2),\n",
        "                                     strides = (2, 2),\n",
        "                                     padding = 'same')(c5)\n",
        "\n",
        "u6 = tf.keras.layers.concatenate([u6, c4])\n",
        "\n",
        "c6 = tf.keras.layers.Conv2D(FILTER*8, (3, 3),\n",
        "                            kernel_initializer = 'he_normal',\n",
        "                            padding = 'same')(u6)\n",
        "\n",
        "c6 = tf.keras.layers.BatchNormalization()(c6) # Batch normalization instead of dropout (note: I had to split the conv2D and ReLU)\n",
        "\n",
        "c6 = tf.keras.layers.Activation('selu')(c6)\n",
        "\n",
        "c6 = tf.keras.layers.Conv2D(FILTER*8, (3, 3),\n",
        "                            activation = 'selu',\n",
        "                            kernel_initializer = 'he_normal',\n",
        "                            padding = 'same')(c6)\n",
        "\n",
        "# Layer 7\n",
        "u7 = tf.keras.layers.Conv2DTranspose(FILTER*4, (2, 2),\n",
        "                                     strides = (2, 2),\n",
        "                                     padding = 'same')(c6)\n",
        "\n",
        "u7 = tf.keras.layers.concatenate([u7, c3])\n",
        "\n",
        "c7 = tf.keras.layers.Conv2D(FILTER*4, (3, 3),\n",
        "                            kernel_initializer = 'he_normal',\n",
        "                            padding = 'same')(u7)\n",
        "\n",
        "c7 = tf.keras.layers.BatchNormalization()(c7) # Batch normalization instead of dropout (note: I had to split the conv2D and ReLU)\n",
        "\n",
        "c7 = tf.keras.layers.Activation('selu')(c7)\n",
        "\n",
        "c7 = tf.keras.layers.Conv2D(FILTER*4, (3, 3),\n",
        "                            activation = 'selu',\n",
        "                            kernel_initializer = 'he_normal',\n",
        "                            padding = 'same')(c7)\n",
        "\n",
        "# Layer 8\n",
        "u8 = tf.keras.layers.Conv2DTranspose(FILTER*2, (2, 2),\n",
        "                                     strides = (2, 2),\n",
        "                                     padding = 'same')(c7)\n",
        "\n",
        "u8 = tf.keras.layers.concatenate([u8, c2])\n",
        "\n",
        "c8 = tf.keras.layers.Conv2D(FILTER*2, (3, 3),\n",
        "                            kernel_initializer = 'he_normal',\n",
        "                            padding = 'same')(u8)\n",
        "\n",
        "c8 = tf.keras.layers.BatchNormalization()(c8) # Batch normalization instead of dropout (note: I had to split the conv2D and ReLU)\n",
        "\n",
        "c8 = tf.keras.layers.Activation('selu')(c8)\n",
        "\n",
        "c8 = tf.keras.layers.Conv2D(FILTER*2, (3, 3),\n",
        "                            activation = 'selu',\n",
        "                            kernel_initializer = 'he_normal',\n",
        "                            padding = 'same')(c8)\n",
        "\n",
        "# Layer 9\n",
        "u9 = tf.keras.layers.Conv2DTranspose(FILTER, (2, 2),\n",
        "                                     strides = (2, 2),\n",
        "                                     padding = 'same')(c8)\n",
        "\n",
        "u9 = tf.keras.layers.concatenate([u9, c1], axis = 3)\n",
        "\n",
        "c9 = tf.keras.layers.Conv2D(FILTER, (3, 3),\n",
        "                            kernel_initializer = 'he_normal',\n",
        "                            padding = 'same')(u9)\n",
        "\n",
        "c9 = tf.keras.layers.BatchNormalization()(c9) # Batch normalization instead of dropout (note: I had to split the conv2D and ReLU)\n",
        "\n",
        "c9 = tf.keras.layers.Activation('selu')(c9) # Dropout\n",
        "\n",
        "c9 = tf.keras.layers.Conv2D(FILTER, (3, 3),\n",
        "                            activation = 'selu',\n",
        "                            kernel_initializer = 'he_normal',\n",
        "                            padding = 'same')(c9)"
      ],
      "execution_count": null,
      "outputs": []
    },
    {
      "cell_type": "markdown",
      "metadata": {
        "id": "TMd4fe233EmI"
      },
      "source": [
        "### Output layer"
      ]
    },
    {
      "cell_type": "code",
      "metadata": {
        "id": "zVQbTgGhnU_q"
      },
      "source": [
        "''' Output layer '''\n",
        "outputs = tf.keras.layers.Conv2D(CLASSES, (1, 1), activation = 'softmax')(c9)"
      ],
      "execution_count": null,
      "outputs": []
    },
    {
      "cell_type": "code",
      "metadata": {
        "colab": {
          "base_uri": "https://localhost:8080/"
        },
        "id": "5NH7m6PHZnuf",
        "outputId": "9cdc3082-e19b-4032-96e5-9d3784ffe56d"
      },
      "source": [
        "''' Model building '''\n",
        "model = tf.keras.Model(inputs = [inputs], outputs = [outputs])\n",
        "model.summary()"
      ],
      "execution_count": null,
      "outputs": [
        {
          "output_type": "stream",
          "text": [
            "Model: \"model\"\n",
            "__________________________________________________________________________________________________\n",
            "Layer (type)                    Output Shape         Param #     Connected to                     \n",
            "==================================================================================================\n",
            "input_1 (InputLayer)            [(None, 128, 128, 3) 0                                            \n",
            "__________________________________________________________________________________________________\n",
            "lambda (Lambda)                 (None, 128, 128, 3)  0           input_1[0][0]                    \n",
            "__________________________________________________________________________________________________\n",
            "conv2d (Conv2D)                 (None, 128, 128, 16) 448         lambda[0][0]                     \n",
            "__________________________________________________________________________________________________\n",
            "batch_normalization (BatchNorma (None, 128, 128, 16) 64          conv2d[0][0]                     \n",
            "__________________________________________________________________________________________________\n",
            "activation (Activation)         (None, 128, 128, 16) 0           batch_normalization[0][0]        \n",
            "__________________________________________________________________________________________________\n",
            "conv2d_1 (Conv2D)               (None, 128, 128, 16) 2320        activation[0][0]                 \n",
            "__________________________________________________________________________________________________\n",
            "max_pooling2d (MaxPooling2D)    (None, 64, 64, 16)   0           conv2d_1[0][0]                   \n",
            "__________________________________________________________________________________________________\n",
            "conv2d_2 (Conv2D)               (None, 64, 64, 32)   4640        max_pooling2d[0][0]              \n",
            "__________________________________________________________________________________________________\n",
            "batch_normalization_1 (BatchNor (None, 64, 64, 32)   128         conv2d_2[0][0]                   \n",
            "__________________________________________________________________________________________________\n",
            "activation_1 (Activation)       (None, 64, 64, 32)   0           batch_normalization_1[0][0]      \n",
            "__________________________________________________________________________________________________\n",
            "conv2d_3 (Conv2D)               (None, 64, 64, 32)   9248        activation_1[0][0]               \n",
            "__________________________________________________________________________________________________\n",
            "max_pooling2d_1 (MaxPooling2D)  (None, 32, 32, 32)   0           conv2d_3[0][0]                   \n",
            "__________________________________________________________________________________________________\n",
            "conv2d_4 (Conv2D)               (None, 32, 32, 64)   18496       max_pooling2d_1[0][0]            \n",
            "__________________________________________________________________________________________________\n",
            "batch_normalization_2 (BatchNor (None, 32, 32, 64)   256         conv2d_4[0][0]                   \n",
            "__________________________________________________________________________________________________\n",
            "activation_2 (Activation)       (None, 32, 32, 64)   0           batch_normalization_2[0][0]      \n",
            "__________________________________________________________________________________________________\n",
            "conv2d_5 (Conv2D)               (None, 32, 32, 64)   36928       activation_2[0][0]               \n",
            "__________________________________________________________________________________________________\n",
            "max_pooling2d_2 (MaxPooling2D)  (None, 16, 16, 64)   0           conv2d_5[0][0]                   \n",
            "__________________________________________________________________________________________________\n",
            "conv2d_6 (Conv2D)               (None, 16, 16, 128)  73856       max_pooling2d_2[0][0]            \n",
            "__________________________________________________________________________________________________\n",
            "batch_normalization_3 (BatchNor (None, 16, 16, 128)  512         conv2d_6[0][0]                   \n",
            "__________________________________________________________________________________________________\n",
            "activation_3 (Activation)       (None, 16, 16, 128)  0           batch_normalization_3[0][0]      \n",
            "__________________________________________________________________________________________________\n",
            "conv2d_7 (Conv2D)               (None, 16, 16, 128)  147584      activation_3[0][0]               \n",
            "__________________________________________________________________________________________________\n",
            "max_pooling2d_3 (MaxPooling2D)  (None, 8, 8, 128)    0           conv2d_7[0][0]                   \n",
            "__________________________________________________________________________________________________\n",
            "conv2d_8 (Conv2D)               (None, 8, 8, 256)    295168      max_pooling2d_3[0][0]            \n",
            "__________________________________________________________________________________________________\n",
            "batch_normalization_4 (BatchNor (None, 8, 8, 256)    1024        conv2d_8[0][0]                   \n",
            "__________________________________________________________________________________________________\n",
            "activation_4 (Activation)       (None, 8, 8, 256)    0           batch_normalization_4[0][0]      \n",
            "__________________________________________________________________________________________________\n",
            "conv2d_9 (Conv2D)               (None, 8, 8, 256)    590080      activation_4[0][0]               \n",
            "__________________________________________________________________________________________________\n",
            "conv2d_transpose (Conv2DTranspo (None, 16, 16, 128)  131200      conv2d_9[0][0]                   \n",
            "__________________________________________________________________________________________________\n",
            "concatenate (Concatenate)       (None, 16, 16, 256)  0           conv2d_transpose[0][0]           \n",
            "                                                                 conv2d_7[0][0]                   \n",
            "__________________________________________________________________________________________________\n",
            "conv2d_10 (Conv2D)              (None, 16, 16, 128)  295040      concatenate[0][0]                \n",
            "__________________________________________________________________________________________________\n",
            "batch_normalization_5 (BatchNor (None, 16, 16, 128)  512         conv2d_10[0][0]                  \n",
            "__________________________________________________________________________________________________\n",
            "activation_5 (Activation)       (None, 16, 16, 128)  0           batch_normalization_5[0][0]      \n",
            "__________________________________________________________________________________________________\n",
            "conv2d_11 (Conv2D)              (None, 16, 16, 128)  147584      activation_5[0][0]               \n",
            "__________________________________________________________________________________________________\n",
            "conv2d_transpose_1 (Conv2DTrans (None, 32, 32, 64)   32832       conv2d_11[0][0]                  \n",
            "__________________________________________________________________________________________________\n",
            "concatenate_1 (Concatenate)     (None, 32, 32, 128)  0           conv2d_transpose_1[0][0]         \n",
            "                                                                 conv2d_5[0][0]                   \n",
            "__________________________________________________________________________________________________\n",
            "conv2d_12 (Conv2D)              (None, 32, 32, 64)   73792       concatenate_1[0][0]              \n",
            "__________________________________________________________________________________________________\n",
            "batch_normalization_6 (BatchNor (None, 32, 32, 64)   256         conv2d_12[0][0]                  \n",
            "__________________________________________________________________________________________________\n",
            "activation_6 (Activation)       (None, 32, 32, 64)   0           batch_normalization_6[0][0]      \n",
            "__________________________________________________________________________________________________\n",
            "conv2d_13 (Conv2D)              (None, 32, 32, 64)   36928       activation_6[0][0]               \n",
            "__________________________________________________________________________________________________\n",
            "conv2d_transpose_2 (Conv2DTrans (None, 64, 64, 32)   8224        conv2d_13[0][0]                  \n",
            "__________________________________________________________________________________________________\n",
            "concatenate_2 (Concatenate)     (None, 64, 64, 64)   0           conv2d_transpose_2[0][0]         \n",
            "                                                                 conv2d_3[0][0]                   \n",
            "__________________________________________________________________________________________________\n",
            "conv2d_14 (Conv2D)              (None, 64, 64, 32)   18464       concatenate_2[0][0]              \n",
            "__________________________________________________________________________________________________\n",
            "batch_normalization_7 (BatchNor (None, 64, 64, 32)   128         conv2d_14[0][0]                  \n",
            "__________________________________________________________________________________________________\n",
            "activation_7 (Activation)       (None, 64, 64, 32)   0           batch_normalization_7[0][0]      \n",
            "__________________________________________________________________________________________________\n",
            "conv2d_15 (Conv2D)              (None, 64, 64, 32)   9248        activation_7[0][0]               \n",
            "__________________________________________________________________________________________________\n",
            "conv2d_transpose_3 (Conv2DTrans (None, 128, 128, 16) 2064        conv2d_15[0][0]                  \n",
            "__________________________________________________________________________________________________\n",
            "concatenate_3 (Concatenate)     (None, 128, 128, 32) 0           conv2d_transpose_3[0][0]         \n",
            "                                                                 conv2d_1[0][0]                   \n",
            "__________________________________________________________________________________________________\n",
            "conv2d_16 (Conv2D)              (None, 128, 128, 16) 4624        concatenate_3[0][0]              \n",
            "__________________________________________________________________________________________________\n",
            "batch_normalization_8 (BatchNor (None, 128, 128, 16) 64          conv2d_16[0][0]                  \n",
            "__________________________________________________________________________________________________\n",
            "activation_8 (Activation)       (None, 128, 128, 16) 0           batch_normalization_8[0][0]      \n",
            "__________________________________________________________________________________________________\n",
            "conv2d_17 (Conv2D)              (None, 128, 128, 16) 2320        activation_8[0][0]               \n",
            "__________________________________________________________________________________________________\n",
            "conv2d_18 (Conv2D)              (None, 128, 128, 18) 306         conv2d_17[0][0]                  \n",
            "==================================================================================================\n",
            "Total params: 1,944,338\n",
            "Trainable params: 1,942,866\n",
            "Non-trainable params: 1,472\n",
            "__________________________________________________________________________________________________\n"
          ],
          "name": "stdout"
        }
      ]
    },
    {
      "cell_type": "markdown",
      "metadata": {
        "id": "N6PtpsUcvl5n"
      },
      "source": [
        "## Loss functions and metrics"
      ]
    },
    {
      "cell_type": "markdown",
      "metadata": {
        "id": "vE-0G6h2Yqv2"
      },
      "source": [
        "### Smoothed Jaccard distance loss"
      ]
    },
    {
      "cell_type": "code",
      "metadata": {
        "id": "NQtH2qq-fhzO"
      },
      "source": [
        "def jaccard_distance(y_true, y_pred, smooth = 100):\n",
        "    \"\"\" Calculates mean of Jaccard distance as a loss function \"\"\"\n",
        "    intersection = tf.reduce_sum(y_true * y_pred, axis = -1)\n",
        "    union = tf.reduce_sum(y_true + y_pred, axis = -1)\n",
        "\n",
        "    jac = (intersection + smooth) / (union - intersection + smooth)\n",
        "    jd =  (1 - jac) * smooth\n",
        "    \n",
        "    return tf.reduce_mean(jd)"
      ],
      "execution_count": null,
      "outputs": []
    },
    {
      "cell_type": "code",
      "metadata": {
        "id": "jIEI2JFz5aRb"
      },
      "source": [
        "''' Metrics '''\n",
        "IoU_metric = segmentation_models.metrics.IOUScore()\n",
        "\n",
        "F_metric = segmentation_models.metrics.FScore()\n",
        "\n",
        "''' Losses '''\n",
        "crossentropy_loss = tf.keras.losses.CategoricalCrossentropy(label_smoothing = 0.5, name = 'categorical_crossentropy')\n",
        "\n",
        "jaccard_loss = segmentation_models.losses.JaccardLoss()\n",
        "\n",
        "dice_loss = segmentation_models.losses.DiceLoss() \n",
        "\n",
        "focal_loss = segmentation_models.losses.CategoricalFocalLoss() # Non ha righe ma la IoU rimane bassa\n",
        "\n",
        "# Dice + Focal loss\n",
        "combined_loss = dice_loss + (1 * focal_loss)"
      ],
      "execution_count": null,
      "outputs": []
    },
    {
      "cell_type": "markdown",
      "metadata": {
        "id": "v001Jixs3JdS"
      },
      "source": [
        "## Model"
      ]
    },
    {
      "cell_type": "markdown",
      "metadata": {
        "id": "Y0dTSrgrYNC9"
      },
      "source": [
        "### Checkpoints"
      ]
    },
    {
      "cell_type": "code",
      "metadata": {
        "id": "7htRbOyIw3s9"
      },
      "source": [
        "''' Model checkpoints: the model will be saved at each epoch, if there is an improvement '''\n",
        "checkpointer = tf.keras.callbacks.ModelCheckpoint('/content/drive/MyDrive/deep_learning_project/trained_models/modella-128-16-smoothing_jaccard.h5',\n",
        "                                                  monitor = 'loss', # Select which quantity to refers, can also use metrics or the validation \n",
        "                                                  verbose = 1,\n",
        "                                                  save_best_only = False, \n",
        "                                                  mode = 'auto', \n",
        "                                                  save_freq = 'epoch' # Flag to save at each epoch\n",
        "                                                  )"
      ],
      "execution_count": null,
      "outputs": []
    },
    {
      "cell_type": "markdown",
      "metadata": {
        "id": "hphVY2ORxiuw"
      },
      "source": [
        "### Neural network training\n"
      ]
    },
    {
      "cell_type": "code",
      "metadata": {
        "id": "ngcXyfcOqRaC"
      },
      "source": [
        "  ''' Generator initialization '''\n",
        "path_train = '/content/drive/MyDrive/deep_learning_project/train/images/'\n",
        "path_val = '/content/drive/MyDrive/deep_learning_project/val/images/'\n",
        "\n",
        "BATCH_SIZE = 64\n",
        "\n",
        "gen_train = dataset_generator(coco_imgs = coco_imgs_train, \n",
        "                              path = path_train, \n",
        "                              coco_annotations = coco_train, \n",
        "                              cats = cats, \n",
        "                              category_channels = category_channels, \n",
        "                              dataset_size = TRAINING_SET_SIZE, \n",
        "                              batch_size = BATCH_SIZE)\n",
        "\n",
        "gen_val = dataset_generator(coco_imgs = coco_imgs_val, \n",
        "                            path = path_val, \n",
        "                            coco_annotations = coco_val, \n",
        "                            cats = cats, \n",
        "                            category_channels = category_channels, \n",
        "                            dataset_size = VALIDATION_SET_SIZE, \n",
        "                            batch_size = BATCH_SIZE) "
      ],
      "execution_count": null,
      "outputs": []
    },
    {
      "cell_type": "code",
      "metadata": {
        "id": "OJx5bDeZYuib"
      },
      "source": [
        "''' Load previous model: after the first training upload the previous configuration and use it as initial state for new training'''\n",
        "model = tf.keras.models.load_model('/content/drive/MyDrive/deep_learning_project/trained_models/modella-128-16-smoothing_jaccard.h5',\n",
        "                                     custom_objects = {'jaccard_distance_loss': jaccard_distance_loss}) # Remember to select the right custom objects (losses, metrics)\n",
        "model.summary()"
      ],
      "execution_count": null,
      "outputs": []
    },
    {
      "cell_type": "code",
      "metadata": {
        "id": "XpkWeL518UmY"
      },
      "source": [
        "''' Learning rate scheduler '''\n",
        "initial_learning_rate = 1.25e-4\n",
        "\n",
        "lr_schedule1 = tf.keras.optimizers.schedules.ExponentialDecay(initial_learning_rate,\n",
        "                                                             decay_steps = 100000,\n",
        "                                                             decay_rate = 0.96,\n",
        "                                                             staircase = True)\n",
        "\n",
        "lr_schedule2 = tf.keras.optimizers.schedules.CosineDecay(initial_learning_rate, \n",
        "                                                        decay_steps = 1000, \n",
        "                                                        alpha = 0.15)"
      ],
      "execution_count": null,
      "outputs": []
    },
    {
      "cell_type": "code",
      "metadata": {
        "id": "zlZ6HJoM16wL"
      },
      "source": [
        "''' Before starting a new traning is it possible to change optimizer or loss functions'''\n",
        "opt = tf.keras.optimizers.Adam(learning_rate = lr_schedule1, \n",
        "                               beta_1 = 0.9, \n",
        "                               beta_2 = 0.999, \n",
        "                               epsilon = 1e-07, \n",
        "                               amsgrad = True,\n",
        "                               clipnorm = 1.0)\n",
        "\n",
        "opt2 = tf.keras.optimizers.SGD(learning_rate = lr_schedule2,\n",
        "                               momentum = 0.99,\n",
        "                               nesterov = True,\n",
        "                               clipnorm = 1.0)\n",
        "\n",
        "model.compile(optimizer = opt, \n",
        "              loss = [jaccard_distance_loss], \n",
        "              metrics = 'accuracy')"
      ],
      "execution_count": null,
      "outputs": []
    },
    {
      "cell_type": "code",
      "metadata": {
        "id": "BI7utbg9Ab45"
      },
      "source": [
        "''' Model training '''\n",
        "EPOCHS = 20\n",
        "\n",
        "records = model.fit(gen_train,\n",
        "                    validation_data = gen_val,\n",
        "                    steps_per_epoch = np.ceil(TRAINING_SET_SIZE / BATCH_SIZE),\n",
        "                    validation_steps = np.ceil(VALIDATION_SET_SIZE / BATCH_SIZE),\n",
        "                    epochs = EPOCHS, \n",
        "                    verbose = 1,\n",
        "                    callbacks = [checkpointer]\n",
        "                    )"
      ],
      "execution_count": null,
      "outputs": []
    },
    {
      "cell_type": "markdown",
      "metadata": {
        "id": "wAVWjtxrcNfV"
      },
      "source": [
        "## Evaluation\n",
        "For a known ground truth mask A, you propose a mask B, then we first compute IoU (Intersection Over Union).\n",
        "\n",
        "IoU measures the overall overlap between the true region and the proposed region. Then we consider it a **true detection** when there is at least half an overlap, namely when IoU > 0.5\n",
        "\n",
        "Then we can define the following parameters :\n",
        "* Precision (IoU > 0.5);\n",
        "* Recall (IoU > 0.5).\n",
        "\n",
        "The final scoring parameters: \n",
        "* AP{IoU > 0.5};  \n",
        "* AR{IoU > 0.5};\n",
        "\n",
        "are computed by averaging over all the precision and recall values for all known annotations in the ground truth.\n",
        "\n",
        "Guide 1: https://www.jeremyjordan.me/evaluating-image-segmentation-models/\n",
        "\n",
        "Guide 2: https://towardsdatascience.com/metrics-to-evaluate-your-semantic-segmentation-model-6bcb99639aa2"
      ]
    },
    {
      "cell_type": "code",
      "metadata": {
        "id": "f8aXJYo-3ukP"
      },
      "source": [
        "'''Generator initialization'''\n",
        "path_val = \"/content/drive/MyDrive/deep_learning_project/val/images/\"\n",
        "\n",
        "gen_val = dataset_generator(coco_imgs = coco_imgs_val, \n",
        "                            path = path_val, \n",
        "                            coco_annotations = coco_val, \n",
        "                            cats = cats, \n",
        "                            category_channels = category_channels, \n",
        "                            dataset_size = VALIDATION_SET_SIZE, \n",
        "                            batch_size = VALIDATION_SET_SIZE) \n",
        "\n",
        "model = tf.keras.models.load_model('/content/drive/MyDrive/deep_learning_project/trained_models/modella-128-16-focal_loss.h5',\n",
        "                                   custom_objects = {'focal_loss': focal_loss, 'iou_score': IoU_metric})"
      ],
      "execution_count": null,
      "outputs": []
    },
    {
      "cell_type": "code",
      "metadata": {
        "id": "Luvd_w-G845j"
      },
      "source": [
        "validation_set = next(gen_val)\n",
        "images_val_set = validation_set[0] # Images\n",
        "masks_val_set = validation_set[1]  # Masks"
      ],
      "execution_count": null,
      "outputs": []
    },
    {
      "cell_type": "code",
      "metadata": {
        "colab": {
          "base_uri": "https://localhost:8080/",
          "height": 268
        },
        "id": "ZHmCsL64vDmQ",
        "outputId": "ba895feb-7125-4b16-9d06-f65aa9ee86d3"
      },
      "source": [
        "plt.imshow(images_val_set[4].astype(np.uint8))\n",
        "plt.show()"
      ],
      "execution_count": null,
      "outputs": [
        {
          "output_type": "display_data",
          "data": {
            "image/png": "[encoded data removed]",
            "text/plain": [
              "<Figure size 432x288 with 1 Axes>"
            ]
          },
          "metadata": {
            "tags": [],
            "needs_background": "light"
          }
        }
      ]
    },
    {
      "cell_type": "code",
      "metadata": {
        "colab": {
          "base_uri": "https://localhost:8080/"
        },
        "id": "yxJ6-WvS6PIb",
        "outputId": "80bdcd5e-52bb-4aff-8f4e-fb5111851f5f"
      },
      "source": [
        "predictions = model.predict(images_val_set, verbose = 1)"
      ],
      "execution_count": null,
      "outputs": [
        {
          "output_type": "stream",
          "text": [
            "18/18 [==============================] - 23s 1s/step\n"
          ],
          "name": "stdout"
        }
      ]
    },
    {
      "cell_type": "code",
      "metadata": {
        "id": "JmLSWxgnvSai"
      },
      "source": [
        "def show_masks_threshold(prediction):\n",
        "  labels = list(category_channels.keys())\n",
        "  labels.insert(0, \"background\")\n",
        "  labels.append(\"other\")\n",
        "\n",
        "  prediction_threshold = prediction.copy()\n",
        "  prediction_threshold[prediction_threshold >= 0.4] = 1.\n",
        "  prediction_threshold[prediction_threshold < 0.4] = 0.\n",
        "\n",
        "  for i in range(CLASSES):\n",
        "    if np.max(prediction_threshold[:,:,i]) != 0:\n",
        "      plt.imshow(prediction_threshold[:,:,i])\n",
        "      plt.title(labels[i])\n",
        "      plt.show()"
      ],
      "execution_count": null,
      "outputs": []
    },
    {
      "cell_type": "code",
      "metadata": {
        "colab": {
          "base_uri": "https://localhost:8080/",
          "height": 545
        },
        "id": "HQx6S2HI7d_r",
        "outputId": "f528573e-166a-4cdf-df20-acaf4cde30a6"
      },
      "source": [
        "'''Showing the predicted masks'''\n",
        "show_masks_threshold(predictions[4,:,:,:])"
      ],
      "execution_count": null,
      "outputs": [
        {
          "output_type": "display_data",
          "data": {
            "image/png": "[encoded data removed]",
            "text/plain": [
              "<Figure size 432x288 with 1 Axes>"
            ]
          },
          "metadata": {
            "tags": [],
            "needs_background": "light"
          }
        },
        {
          "output_type": "display_data",
          "data": {
            "image/png": "[encoded data removed]",
            "text/plain": [
              "<Figure size 432x288 with 1 Axes>"
            ]
          },
          "metadata": {
            "tags": [],
            "needs_background": "light"
          }
        }
      ]
    },
    {
      "cell_type": "code",
      "metadata": {
        "id": "7-KPpveIwxLb"
      },
      "source": [
        "def show_mask_overlapping(prediction):\n",
        "  labels = list(category_channels.keys())\n",
        "  labels.insert(0, \"background\")\n",
        "  labels.append(\"other\")\n",
        "\n",
        "  prediction_threshold = prediction.copy()\n",
        "  prediction_threshold[prediction_threshold >= 0.4] = 1.\n",
        "  prediction_threshold[prediction_threshold < 0.4] = 0.\n",
        "\n",
        "  mask_plot = np.zeros((IMAGE_WIDTH, IMAGE_HEIGHT), dtype = np.float32)\n",
        "\n",
        "  '''Preparing the mask with overlapping'''\n",
        "  for i in range(CLASSES):\n",
        "    prediction_threshold[:,:,i] = prediction_threshold[:,:,i] * i\n",
        "    mask_plot += prediction_threshold[:,:,i]\n",
        "    mask_plot[mask_plot >= i] = i\n",
        "\n",
        "  values = np.array(np.unique(mask_plot), dtype=np.uint8)\n",
        "  plt.figure(figsize=(8,4))\n",
        "  im = plt.imshow(mask_plot, interpolation='none')\n",
        "  colors = [ im.cmap(im.norm(value)) for value in range(len(labels))]\n",
        "  patches = [ mpatches.Patch(color=colors[i], label=labels[i] ) for i in values ]\n",
        "  plt.legend(handles=patches, bbox_to_anchor=(1.05, 1), loc=2, borderaxespad=0. )\n",
        "\n",
        "  plt.axis('off')\n",
        "  plt.show()"
      ],
      "execution_count": null,
      "outputs": []
    },
    {
      "cell_type": "code",
      "metadata": {
        "colab": {
          "base_uri": "https://localhost:8080/",
          "height": 248
        },
        "id": "9Oj3p30YxrrP",
        "outputId": "5383a1d4-4e29-4412-ccf6-aefd51654e63"
      },
      "source": [
        "show_mask_overlapping(predictions[4,:,:,:])"
      ],
      "execution_count": null,
      "outputs": [
        {
          "output_type": "display_data",
          "data": {
            "image/png": "[encoded data removed]",
            "text/plain": [
              "<Figure size 576x288 with 1 Axes>"
            ]
          },
          "metadata": {
            "tags": [],
            "needs_background": "light"
          }
        }
      ]
    },
    {
      "cell_type": "code",
      "metadata": {
        "colab": {
          "base_uri": "https://localhost:8080/"
        },
        "id": "3n-3rE6zBncC",
        "outputId": "e89794da-a2b7-48c7-97a4-5af334e2c415"
      },
      "source": [
        "'''Computing the IoU, Recall and Precision metrics'''\n",
        "def compute_results(mean_iou, recall, precision, mask, prediction):\n",
        "    mean_iou.update_state(mask, prediction)\n",
        "    recall.update_state(mask, prediction)\n",
        "    precision.update_state(mask, prediction)\n",
        "\n",
        "    return recall.result().numpy(), precision.result().numpy(), mean_iou.result().numpy()\n",
        "\n",
        "mean_iou = tf.keras.metrics.MeanIoU(num_classes = 17)\n",
        "recall = tf.keras.metrics.Recall()\n",
        "precision = tf.keras.metrics.Precision()\n",
        "\n",
        "mean_iou_results = []\n",
        "recall_results = []\n",
        "precision_results = []\n",
        "\n",
        "threshold = 0.5\n",
        "\n",
        "for i in range(VALIDATION_SET_SIZE):\n",
        "    mask = masks_val_set[i,:,:,:-1]\n",
        "    prediction = predictions[i,:,:,:-1]\n",
        "\n",
        "    recall_res, precision_res, mean_iou_res = compute_results(mean_iou, recall, precision, mask, prediction)\n",
        "\n",
        "    mean_iou_results.append(mean_iou_res)\n",
        "    mean_iou.reset_states()\n",
        "\n",
        "    if mean_iou_res >= threshold:\n",
        "\n",
        "        precision_results.append(precision_res)\n",
        "        precision.reset_states()\n",
        "\n",
        "        recall_results.append(recall_res)\n",
        "        recall.reset_states()\n",
        "\n",
        "print('Mean precision: {}.'.format(np.average(precision_results)))\n",
        "print('Mean recall: {}.'.format(np.average(recall_results)))\n",
        "print('Calculated on {} samples, over {} total samples, that passed the IoU test.'.format(len(np.asarray(mean_iou_results)[np.asarray(mean_iou_results) >= threshold]), VALIDATION_SET_SIZE))\n",
        "print(mean_iou_results)"
      ],
      "execution_count": null,
      "outputs": [
        {
          "output_type": "stream",
          "text": [
            "Mean precision: 0.7332707047462463.\n",
            "Mean recall: 0.7217566967010498.\n",
            "Calculated on 562 samples, over 563 total samples, that passed the IoU test.\n",
            "[0.7323706, 0.6715261, 0.6783299, 0.7961718, 0.84053713, 0.69943917, 0.5744072, 0.6211286, 0.74094975, 0.69050616, 0.67104775, 0.73799336, 0.68074274, 0.7273712, 0.6893473, 0.88507986, 0.6353746, 0.6097515, 0.7262223, 0.5781711, 0.6721324, 0.58172095, 0.58508456, 0.62525856, 0.609282, 0.72509396, 0.5691719, 0.5486752, 0.6823301, 0.7935508, 0.7491808, 0.6800419, 0.84214985, 0.68856853, 0.6169679, 0.7944895, 0.7569312, 0.6057102, 0.5495276, 0.59870017, 0.63235974, 0.5469092, 0.6771592, 0.7756554, 0.5714301, 0.6102357, 0.58283114, 0.5455448, 0.6980732, 0.7396338, 0.7538418, 0.72434443, 0.66792613, 0.8100069, 0.63837814, 0.66628736, 0.60978615, 0.8336755, 0.68753386, 0.6462046, 0.68100804, 0.78784466, 0.7256592, 0.67293787, 0.5497679, 0.5823641, 0.67023146, 0.5962027, 0.6519557, 0.81395423, 0.5886351, 0.7082677, 0.7075278, 0.62184906, 0.59948367, 0.7782674, 0.717921, 0.61766374, 0.91958785, 0.5933798, 0.67425746, 0.62825364, 0.5482977, 0.6845486, 0.52133703, 0.76625407, 0.76834947, 0.70806533, 0.6698032, 0.5644342, 0.85659313, 0.63869834, 0.7213085, 0.6468029, 0.7406634, 0.616876, 0.537418, 0.7296102, 0.5956124, 0.7258092, 0.7107159, 0.66779566, 0.730252, 0.6888264, 0.61615497, 0.7877823, 0.5923895, 0.593622, 0.73366785, 0.8252995, 0.7009461, 0.62663424, 0.7236055, 0.64089763, 0.5238055, 0.81546915, 0.65024537, 0.6451733, 0.8713299, 0.7018714, 0.7624342, 0.73531765, 0.7377666, 0.5832714, 0.77787626, 0.8267189, 0.6935648, 0.6538352, 0.5298375, 0.8006502, 0.6721744, 0.5943946, 0.61158526, 0.6056629, 0.6411247, 0.6765694, 0.6695668, 0.6324935, 0.62665236, 0.63101393, 0.65404046, 0.59783375, 0.60651606, 0.7453077, 0.65269303, 0.6634753, 0.6425717, 0.6407573, 0.6837973, 0.66060793, 0.52434105, 0.7948309, 0.77922225, 0.6545713, 0.7150125, 0.7208506, 0.61703867, 0.8127675, 0.5575863, 0.6694815, 0.5854024, 0.6023187, 0.5479361, 0.74018466, 0.87005734, 0.65491253, 0.76847696, 0.70029914, 0.6320356, 0.5394363, 0.629509, 0.7031555, 0.80576295, 0.6222316, 0.6591438, 0.6557837, 0.67389554, 0.59196615, 0.64274675, 0.64812195, 0.574481, 0.73216563, 0.5665167, 0.6782531, 0.7341916, 0.55502135, 0.7645902, 0.60040575, 0.8282982, 0.76327276, 0.8430597, 0.724616, 0.58711743, 0.73581195, 0.7110955, 0.6867186, 0.6597611, 0.6228852, 0.587481, 0.60070336, 0.57250077, 0.6733718, 0.6801663, 0.65275574, 0.58816206, 0.6112834, 0.664376, 0.56406313, 0.6524675, 0.88023806, 0.737725, 0.57058126, 0.7883961, 0.78192806, 0.6625241, 0.6983954, 0.5404951, 0.5545984, 0.5846775, 0.58853924, 0.7412801, 0.6163342, 0.753552, 0.7785708, 0.524343, 0.6579923, 0.6611428, 0.71938014, 0.6751015, 0.6081873, 0.55715024, 0.7331157, 0.67475367, 0.5347899, 0.6691058, 0.68953234, 0.77163655, 0.62235355, 0.63795996, 0.7442453, 0.8152021, 0.66572887, 0.60800594, 0.5457175, 0.55673957, 0.57135606, 0.76868594, 0.7856501, 0.7559841, 0.562666, 0.6618263, 0.76213723, 0.54717964, 0.7878462, 0.57216936, 0.62677276, 0.7410356, 0.81657124, 0.58381945, 0.6732279, 0.76406157, 0.71583056, 0.71660244, 0.69660777, 0.7360143, 0.6739148, 0.7699902, 0.6670957, 0.6480374, 0.6761383, 0.6494647, 0.78741586, 0.68573445, 0.55923474, 0.64177024, 0.6434177, 0.7557135, 0.6860376, 0.6634853, 0.6069479, 0.6776563, 0.5942238, 0.55567324, 0.6067723, 0.6841223, 0.7351376, 0.56999594, 0.70703864, 0.6873117, 0.6402413, 0.50053483, 0.5286908, 0.5585802, 0.5967373, 0.7183589, 0.6993536, 0.6955507, 0.72225845, 0.76332104, 0.7475439, 0.5799159, 0.64633733, 0.6502393, 0.8386581, 0.6345485, 0.5551598, 0.6312927, 0.7204554, 0.651527, 0.5383786, 0.5732307, 0.59005564, 0.64913505, 0.6548519, 0.67329574, 0.60997534, 0.62643933, 0.75021696, 0.6551267, 0.6630962, 0.60117453, 0.61007756, 0.6422086, 0.5375396, 0.56564367, 0.7160708, 0.5655436, 0.6872527, 0.6905949, 0.6174511, 0.715749, 0.75063324, 0.5742284, 0.634765, 0.5433299, 0.9157053, 0.6305561, 0.6416525, 0.5614979, 0.5794179, 0.68712133, 0.5484689, 0.82886, 0.7341719, 0.7434826, 0.5933219, 0.81531036, 0.59360933, 0.6980635, 0.76417315, 0.69759405, 0.7314933, 0.61474115, 0.56020844, 0.7501474, 0.74698305, 0.6020216, 0.6863021, 0.77209353, 0.71018386, 0.8723645, 0.80465055, 0.66273856, 0.79755795, 0.646304, 0.6154959, 0.7292333, 0.7497723, 0.60722107, 0.5812216, 0.7351642, 0.72299534, 0.5804423, 0.6472192, 0.599221, 0.7359441, 0.7327543, 0.67375493, 0.71632284, 0.5686341, 0.71403074, 0.61831564, 0.635899, 0.73578966, 0.6836934, 0.7688675, 0.7785735, 0.6772585, 0.6920018, 0.5969937, 0.75351363, 0.72019714, 0.62054706, 0.7234445, 0.6077629, 0.7558609, 0.7586155, 0.65067697, 0.76826406, 0.833938, 0.67122424, 0.6759698, 0.5402629, 0.7189442, 0.7067844, 0.64379203, 0.56355596, 0.51565105, 0.57520187, 0.6862046, 0.6502148, 0.7345134, 0.59948605, 0.7920128, 0.5940733, 0.66240644, 0.82349443, 0.86097914, 0.71633077, 0.66756433, 0.64483744, 0.82540315, 0.69445574, 0.6909652, 0.7291414, 0.9181745, 0.6314358, 0.6322874, 0.5941549, 0.7273578, 0.64646024, 0.903384, 0.66028905, 0.61403775, 0.6243001, 0.6231892, 0.6912477, 0.6784952, 0.72821206, 0.63082623, 0.65149105, 0.7158467, 0.62822294, 0.6954677, 0.6407007, 0.737806, 0.6676784, 0.71124214, 0.59600806, 0.673893, 0.6968965, 0.62376565, 0.7490644, 0.56474674, 0.7269294, 0.8052856, 0.51466554, 0.616952, 0.65028906, 0.75444543, 0.6638036, 0.7308782, 0.6249603, 0.7575263, 0.7222461, 0.6324539, 0.61849666, 0.7402811, 0.6902571, 0.8025706, 0.7824923, 0.6562796, 0.49278224, 0.76968265, 0.5155322, 0.6230165, 0.5508219, 0.6670375, 0.74416685, 0.52695334, 0.75781083, 0.6345109, 0.524541, 0.6533742, 0.7763486, 0.7827152, 0.5670187, 0.6113265, 0.70679766, 0.61248815, 0.6051729, 0.5216814, 0.73561215, 0.7363065, 0.6360209, 0.721088, 0.74809474, 0.66560984, 0.5185733, 0.57569575, 0.5895373, 0.78753054, 0.6733049, 0.6765168, 0.8233648, 0.6676444, 0.77505046, 0.6210921, 0.51423764, 0.74054605, 0.5366345, 0.83324814, 0.6492187, 0.52767473, 0.5763465, 0.6853081, 0.7453574, 0.62274975, 0.74086535, 0.7768553, 0.771297, 0.6952487, 0.6708995, 0.72549593, 0.6250568, 0.57632864, 0.8359507, 0.6262934, 0.8967775, 0.8117713, 0.8891157, 0.54783994, 0.61135685, 0.71759623, 0.5645953, 0.68282413, 0.7474377, 0.7231802, 0.5913079, 0.64204234, 0.609107, 0.58465374, 0.7322797, 0.5810595, 0.77519226, 0.6155966, 0.77103317, 0.7142819, 0.7479348, 0.5872235, 0.85682344, 0.55228364, 0.8218286, 0.62677956, 0.75853413, 0.5433049, 0.6588646, 0.6172193, 0.75339246, 0.6485529, 0.5566789, 0.78905606, 0.79173905]\n"
          ],
          "name": "stdout"
        }
      ]
    },
    {
      "cell_type": "code",
      "metadata": {
        "colab": {
          "base_uri": "https://localhost:8080/"
        },
        "id": "jXbQq-xhWeUF",
        "outputId": "d16f7f4a-e825-412f-ce25-e6684aa3953b"
      },
      "source": [
        "print(np.max(mean_iou_results), np.min(mean_iou_results))"
      ],
      "execution_count": null,
      "outputs": [
        {
          "output_type": "stream",
          "text": [
            "0.91958785 0.49278224\n"
          ],
          "name": "stdout"
        }
      ]
    },
    {
      "cell_type": "code",
      "metadata": {
        "colab": {
          "base_uri": "https://localhost:8080/"
        },
        "id": "WuAUqADmE5s1",
        "outputId": "b42dc17a-0ed8-48c4-8eee-f1921d260eb4"
      },
      "source": [
        "print(np.mean(mean_iou_results))"
      ],
      "execution_count": null,
      "outputs": [
        {
          "output_type": "stream",
          "text": [
            "0.67396533\n"
          ],
          "name": "stdout"
        }
      ]
    }
  ]
}